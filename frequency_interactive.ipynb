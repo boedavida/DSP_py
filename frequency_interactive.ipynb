{
 "cells": [
  {
   "cell_type": "markdown",
   "metadata": {},
   "source": [
    "Interactive illustration of the relationship between \n",
    "a sine-wave's frequency and it's Fourier transfrom in a Jupyter notebook.\n",
    "\n",
    "Run the code cells. An interactive plot opens in an interactive window. Move the frequency slider at the top of the interactive plot and watch the sine wave frequency and the Fourier transform plots change simultaneously. \n",
    "\n",
    "Requirements: Python 3, ipywidgets, numpy, scipy, matplotlib, and\n",
    "Jupyter. Recommend using Visual Studio Code or other IDE that \n",
    "supports Jupyter-like code cells. "
   ]
  },
  {
   "cell_type": "code",
   "execution_count": null,
   "metadata": {},
   "outputs": [],
   "source": [
    "from ipywidgets import interact, IntSlider\n",
    "import numpy as np\n",
    "from scipy.fft import fft, fftfreq\n",
    "import matplotlib.pyplot as plt "
   ]
  },
  {
   "cell_type": "code",
   "execution_count": null,
   "metadata": {},
   "outputs": [],
   "source": [
    "@interact(frequency=IntSlider(min=1, max=100))\n",
    "def plot_sin(frequency):\n",
    "    xs = np.linspace(0, 1, 1000)\n",
    "    fs = 1000\n",
    "    T = 1/fs\n",
    "    N = len(xs)\n",
    "    xf = fftfreq(N, T)\n",
    "    y = np.sin(2*np.pi*frequency*xs)\n",
    "    f = fft(y)\n",
    "    fig, ax = plt.subplots(2, 1)\n",
    "    ax[0].plot(xs, y, label='sin(x) frequency = %s' % (frequency))\n",
    "    ax[0].grid()\n",
    "    ax[0].set_title('Sine Wave')\n",
    "    ax[0].set_xlabel('Time (s)')\n",
    "    ax[1].plot(xf, abs(f)/N, label='FFT, sin(x) frequency = %s' % (frequency))\n",
    "    ax[1].grid()\n",
    "    ax[1].set_xlim([-100, 100])\n",
    "    ax[1].set_title('Fourier Transform of Sine Wave')\n",
    "    ax[1].set_xlabel('Frequency (Hz)')\n",
    "    fig.tight_layout()\n",
    "    plt.show()"
   ]
  }
 ],
 "metadata": {
  "interpreter": {
   "hash": "9dfc9ab332706d6192dcb72dd0174c31f4329147ebe353cea53ba3e5e6334d40"
  },
  "kernelspec": {
   "display_name": "Python 3.10.4 ('Sci_Eng_3_10')",
   "language": "python",
   "name": "python3"
  },
  "language_info": {
   "codemirror_mode": {
    "name": "ipython",
    "version": 3
   },
   "file_extension": ".py",
   "mimetype": "text/x-python",
   "name": "python",
   "nbconvert_exporter": "python",
   "pygments_lexer": "ipython3",
   "version": "3.10.4"
  },
  "orig_nbformat": 4
 },
 "nbformat": 4,
 "nbformat_minor": 2
}
