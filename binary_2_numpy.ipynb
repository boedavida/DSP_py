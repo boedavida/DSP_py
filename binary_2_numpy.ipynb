{
 "cells": [
  {
   "cell_type": "markdown",
   "metadata": {},
   "source": [
    "Reads data from a binary file and puts the data into a numpy array "
   ]
  },
  {
   "cell_type": "markdown",
   "metadata": {},
   "source": [
    "Make a numpy array"
   ]
  },
  {
   "cell_type": "code",
   "execution_count": null,
   "metadata": {},
   "outputs": [],
   "source": [
    "import numpy as np\n",
    "array = 1.0*np.array(np.arange(1_000_001))\n",
    "print(array)\n",
    "dt = np.dtype(array[0])\n",
    "print(dt)"
   ]
  },
  {
   "cell_type": "markdown",
   "metadata": {},
   "source": [
    "Write the numpy array to a binary file"
   ]
  },
  {
   "cell_type": "code",
   "execution_count": null,
   "metadata": {},
   "outputs": [],
   "source": [
    "# Open a binary file in write mode:\n",
    "outfile = open(\"out_binary.bin\", 'wb') \n",
    "#array.tofile(outfile)\n",
    "array.tobytes() # Convert numpy array to bytes \n",
    "outfile.write(array) # Write to the binary file\n",
    "outfile.close()"
   ]
  },
  {
   "cell_type": "markdown",
   "metadata": {},
   "source": [
    "Read the binary file into a numpy array"
   ]
  },
  {
   "cell_type": "code",
   "execution_count": null,
   "metadata": {},
   "outputs": [],
   "source": [
    "infile = open(\"out_binary.bin\", 'rb')\n",
    "#numpy.fromfile\n",
    "newarray = np.array([])\n",
    "while True:\n",
    "    buf = infile.read(1024*1024)\n",
    "    if buf:\n",
    "        a = np.frombuffer(buf,dtype=dt)\n",
    "        newarray = np.append(newarray, a, axis=0)\n",
    "        print(f'.', end ='', flush = True)\n",
    "    else:\n",
    "        break\n",
    "infile.close()\n",
    "print('\\n')\n",
    "print(f\"newarray = {newarray}\")\n"
   ]
  },
  {
   "cell_type": "markdown",
   "metadata": {},
   "source": [
    "Get the shape and size of the numpy array"
   ]
  },
  {
   "cell_type": "code",
   "execution_count": null,
   "metadata": {},
   "outputs": [],
   "source": [
    "print(np.shape(newarray))\n",
    "print(np.size(newarray))"
   ]
  }
 ],
 "metadata": {
  "interpreter": {
   "hash": "9dfc9ab332706d6192dcb72dd0174c31f4329147ebe353cea53ba3e5e6334d40"
  },
  "kernelspec": {
   "display_name": "Python 3.10.4 ('Sci_Eng_3_10')",
   "language": "python",
   "name": "python3"
  },
  "language_info": {
   "codemirror_mode": {
    "name": "ipython",
    "version": 3
   },
   "file_extension": ".py",
   "mimetype": "text/x-python",
   "name": "python",
   "nbconvert_exporter": "python",
   "pygments_lexer": "ipython3",
   "version": "3.10.4"
  },
  "orig_nbformat": 4
 },
 "nbformat": 4,
 "nbformat_minor": 2
}
