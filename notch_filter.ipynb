{
 "cells": [
  {
   "cell_type": "markdown",
   "metadata": {},
   "source": [
    "Importing all the necessary libraries."
   ]
  },
  {
   "cell_type": "markdown",
   "metadata": {},
   "source": [
    "Creates an IIR notch filter that filters out a single frequency from a signal. The signal is a simulated signal of two sinusoidal frequencies"
   ]
  },
  {
   "cell_type": "code",
   "execution_count": null,
   "metadata": {},
   "outputs": [],
   "source": [
    "from scipy import signal\n",
    "import matplotlib.pyplot as plt\n",
    "import numpy as np\n"
   ]
  },
  {
   "cell_type": "markdown",
   "metadata": {},
   "source": [
    "Defining the specifications of the IIR Bandpass Notch-Filter"
   ]
  },
  {
   "cell_type": "code",
   "execution_count": null,
   "metadata": {},
   "outputs": [],
   "source": [
    "\n",
    "# Create/view notch filter\n",
    "samp_freq = 1000  # Sample frequency (Hz)\n",
    "notch_freq = 70.0  # Frequency to be removed from signal (Hz)\n",
    "quality_factor = 10.0  # Quality factor"
   ]
  },
  {
   "cell_type": "markdown",
   "metadata": {},
   "source": [
    "Design notch filter"
   ]
  },
  {
   "cell_type": "code",
   "execution_count": null,
   "metadata": {},
   "outputs": [],
   "source": [
    "# Design a notch filter using signal.iirnotch\n",
    "b_notch, a_notch = signal.iirnotch(notch_freq, quality_factor, samp_freq)\n",
    "\n",
    "# Compute magnitude response of the designed filter\n",
    "freq, h = signal.freqz(b_notch, a_notch, fs=2*np.pi)\n"
   ]
  },
  {
   "cell_type": "markdown",
   "metadata": {},
   "source": [
    "Plots"
   ]
  },
  {
   "cell_type": "code",
   "execution_count": null,
   "metadata": {},
   "outputs": [],
   "source": [
    "fig = plt.figure(figsize=(8, 6))\n",
    "\n",
    "# Plot magnitude response of the filter\n",
    "plt.plot(freq*samp_freq/(2*np.pi), 20 * np.log10(abs(h)),\n",
    "\t\t'r', label='Bandpass filter', linewidth='2')\n",
    "\n",
    "plt.xlabel('Frequency [Hz]', fontsize=20)\n",
    "plt.ylabel('Magnitude [dB]', fontsize=20)\n",
    "plt.title('Notch Filter', fontsize=20)\n",
    "plt.grid()\n"
   ]
  },
  {
   "cell_type": "markdown",
   "metadata": {},
   "source": [
    "Create and view signal that is a mixture"
   ]
  },
  {
   "cell_type": "code",
   "execution_count": null,
   "metadata": {},
   "outputs": [],
   "source": [
    "# of two different frequencies\n",
    "f1 = 25 # Frequency of 1st signal in Hz\n",
    "f2 = 70 # Frequency of 2nd signal in Hz\n",
    "\n",
    "# Set time vector\n",
    "# Generate 1000 sample sequence in 1 sec\n",
    "n = np.linspace(0, 1, 1000)\n",
    "\n",
    "# Generate the signal containing f1 and f2\n",
    "noisySignal = np.sin(2*np.pi*f1*n) + np.sin(2*np.pi*f2*n) + np.random.normal(0, .005, 1000)\n"
   ]
  },
  {
   "cell_type": "markdown",
   "metadata": {},
   "source": [
    "Plotting"
   ]
  },
  {
   "cell_type": "code",
   "execution_count": null,
   "metadata": {},
   "outputs": [],
   "source": [
    "\n",
    "fig = plt.figure(figsize=(8, 3))\n",
    "plt.plot(n, noisySignal, color='r', linewidth=2)\n",
    "plt.grid(True)\n",
    "plt.xlabel('Time', fontsize=18)\n",
    "plt.ylabel('Magnitude', fontsize=18)\n",
    "plt.title('Noisy Signal', fontsize=20)"
   ]
  },
  {
   "cell_type": "markdown",
   "metadata": {},
   "source": [
    "Apply notch filter to the noisy signal using signal.filtfilt"
   ]
  },
  {
   "cell_type": "code",
   "execution_count": null,
   "metadata": {},
   "outputs": [],
   "source": [
    "outputSignal = signal.filtfilt(b_notch, a_notch, noisySignal)\n"
   ]
  },
  {
   "cell_type": "markdown",
   "metadata": {},
   "source": [
    "Plots"
   ]
  },
  {
   "cell_type": "code",
   "execution_count": null,
   "metadata": {},
   "outputs": [],
   "source": [
    "\n",
    "# Plot notch-filtered signal\n",
    "fig = plt.figure(figsize=(8, 3))\n",
    "plt.plot(n, outputSignal)\n",
    "plt.grid(True)\n",
    "plt.xlabel('Time', fontsize=18)\n",
    "plt.ylabel('Magnitude', fontsize=18)\n",
    "plt.title('Filtered Signal', fontsize=20)\n",
    "plt.show()"
   ]
  }
 ],
 "metadata": {
  "interpreter": {
   "hash": "9dfc9ab332706d6192dcb72dd0174c31f4329147ebe353cea53ba3e5e6334d40"
  },
  "kernelspec": {
   "display_name": "Python 3.10.4 ('Sci_Eng_3_10')",
   "language": "python",
   "name": "python3"
  },
  "language_info": {
   "codemirror_mode": {
    "name": "ipython",
    "version": 3
   },
   "file_extension": ".py",
   "mimetype": "text/x-python",
   "name": "python",
   "nbconvert_exporter": "python",
   "pygments_lexer": "ipython3",
   "version": "3.10.4"
  },
  "orig_nbformat": 4
 },
 "nbformat": 4,
 "nbformat_minor": 2
}
